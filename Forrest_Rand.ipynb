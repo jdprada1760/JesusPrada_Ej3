{
 "cells": [
  {
   "cell_type": "code",
   "execution_count": 1,
   "metadata": {
    "collapsed": true,
    "deletable": true,
    "editable": true
   },
   "outputs": [],
   "source": [
    "import numpy as np\n",
    "import matplotlib.pyplot as plt\n",
    "from sklearn.ensemble import RandomForestClassifier\n",
    "import pandas as pd\n",
    "%matplotlib inline"
   ]
  },
  {
   "cell_type": "markdown",
   "metadata": {
    "deletable": true,
    "editable": true
   },
   "source": [
    "# Train Data"
   ]
  },
  {
   "cell_type": "code",
   "execution_count": 2,
   "metadata": {
    "collapsed": false,
    "deletable": true,
    "editable": true
   },
   "outputs": [],
   "source": [
    "# Loads Data Dorothea\n",
    "def LoadaDorothea(filename):\n",
    "#filename = 'dorothea_train.data'\n",
    "    filein = open(filename, 'r')\n",
    "    filelines = filein.readlines()\n",
    "    filein.close()\n",
    "\n",
    "    n_elements = len(filelines)\n",
    "    n_features = 100000\n",
    "\n",
    "    data = np.zeros((n_elements, n_features))\n",
    "\n",
    "    for i in range(n_elements):\n",
    "        nums = filelines[i].split()\n",
    "        for n in nums:\n",
    "            j = int(n) - 1\n",
    "            data[i,j] = 1\n",
    "    return data\n",
    "train = LoadaDorothea(\"./dorothea_train.data\")"
   ]
  },
  {
   "cell_type": "code",
   "execution_count": 3,
   "metadata": {
    "collapsed": false,
    "deletable": true,
    "editable": true
   },
   "outputs": [],
   "source": [
    "# Loads the labels file for train data\n",
    "train_labels = np.loadtxt(\"./dorothea_train.labels\")"
   ]
  },
  {
   "cell_type": "code",
   "execution_count": 4,
   "metadata": {
    "collapsed": true,
    "deletable": true,
    "editable": true
   },
   "outputs": [],
   "source": [
    "# Defines divides train into Training(only) set and Test set\n",
    "test = train[:100]\n",
    "test_labels = train_labels[:100]\n",
    "train = train[100:]\n",
    "train_labels = train_labels[100:]"
   ]
  },
  {
   "cell_type": "code",
   "execution_count": 5,
   "metadata": {
    "collapsed": false,
    "deletable": true,
    "editable": true
   },
   "outputs": [
    {
     "name": "stdout",
     "output_type": "stream",
     "text": [
      "<class 'numpy.ndarray'> <class 'numpy.ndarray'>\n",
      "<class 'numpy.ndarray'> <class 'numpy.ndarray'>\n",
      "(100, 100000) (100,)\n",
      "(700, 100000) (700,)\n"
     ]
    }
   ],
   "source": [
    "# Verifying data format\n",
    "print(type(train),type(train_labels))\n",
    "print(type(test),type(test_labels))\n",
    "print(test.shape,test_labels.shape)\n",
    "print(train.shape,train_labels.shape)"
   ]
  },
  {
   "cell_type": "markdown",
   "metadata": {
    "deletable": true,
    "editable": true
   },
   "source": [
    "# The Forest"
   ]
  },
  {
   "cell_type": "code",
   "execution_count": 6,
   "metadata": {
    "collapsed": false,
    "deletable": true,
    "editable": true
   },
   "outputs": [
    {
     "data": {
      "text/plain": [
       "RandomForestClassifier(bootstrap=True, class_weight=None, criterion='gini',\n",
       "            max_depth=None, max_features='auto', max_leaf_nodes=None,\n",
       "            min_impurity_split=1e-07, min_samples_leaf=1,\n",
       "            min_samples_split=2, min_weight_fraction_leaf=0.0,\n",
       "            n_estimators=100, n_jobs=1, oob_score=False, random_state=None,\n",
       "            verbose=0, warm_start=False)"
      ]
     },
     "execution_count": 6,
     "metadata": {},
     "output_type": "execute_result"
    }
   ],
   "source": [
    "rf = RandomForestClassifier(n_estimators=100)\n",
    "rf.fit(train, train_labels)"
   ]
  },
  {
   "cell_type": "markdown",
   "metadata": {
    "deletable": true,
    "editable": true
   },
   "source": [
    "# Validation Data"
   ]
  },
  {
   "cell_type": "code",
   "execution_count": 7,
   "metadata": {
    "collapsed": false,
    "deletable": true,
    "editable": true
   },
   "outputs": [],
   "source": [
    "# Loads Test Data Dorothea with python engine to fill blank spaces as NaN\n",
    "valid = LoadaDorothea(\"./dorothea_valid.data\")"
   ]
  },
  {
   "cell_type": "code",
   "execution_count": 8,
   "metadata": {
    "collapsed": true,
    "deletable": true,
    "editable": true
   },
   "outputs": [],
   "source": [
    "# Loads the labels file for Test data\n",
    "valid_labels = np.loadtxt(\"./dorothea_valid.labels\")\n"
   ]
  },
  {
   "cell_type": "code",
   "execution_count": 9,
   "metadata": {
    "collapsed": false,
    "deletable": true,
    "editable": true
   },
   "outputs": [
    {
     "name": "stdout",
     "output_type": "stream",
     "text": [
      "<class 'numpy.ndarray'> <class 'numpy.ndarray'>\n",
      "(350, 100000) (350,)\n"
     ]
    }
   ],
   "source": [
    "# Verifying data format\n",
    "print(type(valid),type(valid_labels))\n",
    "print(valid.shape,valid_labels.shape)"
   ]
  },
  {
   "cell_type": "markdown",
   "metadata": {
    "deletable": true,
    "editable": true
   },
   "source": [
    "# The Prediction first instance__ Comparing with valid data and test data"
   ]
  },
  {
   "cell_type": "code",
   "execution_count": 10,
   "metadata": {
    "collapsed": true,
    "deletable": true,
    "editable": true
   },
   "outputs": [],
   "source": [
    "predictions_valid = np.zeros(len(valid))\n",
    "predictions_test = np.zeros(len(test))"
   ]
  },
  {
   "cell_type": "code",
   "execution_count": 11,
   "metadata": {
    "collapsed": false,
    "deletable": true,
    "editable": true
   },
   "outputs": [],
   "source": [
    "for i in range(len(predictions_valid)):\n",
    "    predictions_valid[i] = rf.predict(valid[i].reshape(1,-1))\n",
    "for i in range(len(predictions_test)):\n",
    "    predictions_test[i] = rf.predict(test[i].reshape(1,-1))"
   ]
  },
  {
   "cell_type": "code",
   "execution_count": 12,
   "metadata": {
    "collapsed": false,
    "deletable": true,
    "editable": true
   },
   "outputs": [],
   "source": [
    "#plt.plot(predictions)"
   ]
  },
  {
   "cell_type": "code",
   "execution_count": 13,
   "metadata": {
    "collapsed": false,
    "deletable": true,
    "editable": true
   },
   "outputs": [],
   "source": [
    "f_valid = len(predictions_valid[predictions_valid == valid_labels])/len(valid_labels)\n",
    "f_test = len(predictions_test[predictions_test == test_labels])/len(test_labels)"
   ]
  },
  {
   "cell_type": "code",
   "execution_count": 14,
   "metadata": {
    "collapsed": false,
    "deletable": true,
    "editable": true
   },
   "outputs": [
    {
     "name": "stdout",
     "output_type": "stream",
     "text": [
      "0.9342857142857143 8.685714285714285\n",
      "0.95 9.0\n"
     ]
    }
   ],
   "source": [
    "print(f_valid,(f_valid-0.5)*20)\n",
    "print(f_test,(f_test-0.5)*20)"
   ]
  },
  {
   "cell_type": "markdown",
   "metadata": {
    "deletable": true,
    "editable": true
   },
   "source": [
    "# Important Variables first 50"
   ]
  },
  {
   "cell_type": "code",
   "execution_count": 15,
   "metadata": {
    "collapsed": false,
    "deletable": true,
    "editable": true
   },
   "outputs": [
    {
     "name": "stdout",
     "output_type": "stream",
     "text": [
      "Number of positive values:  3612\n",
      "25761 0.0122020434497\n",
      "59959 0.00785280756692\n",
      "411 0.0060661701154\n",
      "28051 0.00596552158593\n",
      "55095 0.00505632816711\n",
      "2525 0.00488806922843\n",
      "80018 0.00483872718413\n",
      "21754 0.00475598629698\n",
      "44379 0.00398666190532\n",
      "89869 0.00389286470026\n",
      "5678 0.00384795342749\n",
      "30727 0.0037882961802\n",
      "98300 0.00360418093815\n",
      "72451 0.00337383029374\n",
      "15129 0.00326106927099\n",
      "31353 0.00324076041059\n",
      "80130 0.00310654873849\n",
      "10476 0.00305552371995\n",
      "50183 0.00302729055044\n",
      "31015 0.00301292068561\n",
      "33875 0.00300959865873\n",
      "5056 0.00298291795767\n",
      "8517 0.00291605805854\n",
      "30973 0.00275521668302\n",
      "36925 0.00270779003776\n",
      "3163 0.00257028887485\n",
      "31462 0.00251651069757\n",
      "45473 0.00249534679996\n",
      "19477 0.00248656920697\n",
      "21415 0.00233906618617\n",
      "90422 0.00228943143312\n",
      "16824 0.00224762511142\n",
      "15893 0.00217252569704\n",
      "50521 0.00212865654643\n",
      "19338 0.00199182176555\n",
      "41301 0.00194273692229\n",
      "79704 0.00192353429476\n",
      "86845 0.00190512493936\n",
      "72414 0.00187900075167\n",
      "39016 0.00186521374345\n",
      "64845 0.0018492352182\n",
      "84746 0.00183948066498\n",
      "76833 0.00179647575816\n",
      "22196 0.00179060333227\n",
      "24826 0.00177810217135\n",
      "97898 0.00175695256636\n",
      "95597 0.0017539724028\n",
      "55601 0.00175345472238\n",
      "75363 0.00174855897601\n",
      "53251 0.00172393575904\n"
     ]
    }
   ],
   "source": [
    "ii = np.argsort(rf.feature_importances_)[::-1][:50]\n",
    "print(\"Number of positive values: \", len(rf.feature_importances_[rf.feature_importances_> 0]))\n",
    "\n",
    "for name,value in zip( ii,rf.feature_importances_[ii]):\n",
    "    if (value >= 0.000):\n",
    "        print(name, value)"
   ]
  },
  {
   "cell_type": "markdown",
   "metadata": {
    "collapsed": true,
    "deletable": true,
    "editable": true
   },
   "source": [
    "# As we know most of the parameters are baits, we are going to select only the first 50.000 in order of importance"
   ]
  },
  {
   "cell_type": "code",
   "execution_count": 16,
   "metadata": {
    "collapsed": false,
    "deletable": true,
    "editable": true
   },
   "outputs": [],
   "source": [
    "ii = np.argsort(rf.feature_importances_)[::-1][:4000]\n",
    "# Modifies test, train, valid data\n",
    "train = train[:,ii]\n",
    "test = test[:,ii]\n",
    "valid = valid[:,ii]"
   ]
  },
  {
   "cell_type": "markdown",
   "metadata": {
    "deletable": true,
    "editable": true
   },
   "source": [
    "# We re-Train the random forest\n"
   ]
  },
  {
   "cell_type": "code",
   "execution_count": 17,
   "metadata": {
    "collapsed": false,
    "deletable": true,
    "editable": true
   },
   "outputs": [
    {
     "data": {
      "text/plain": [
       "RandomForestClassifier(bootstrap=True, class_weight=None, criterion='gini',\n",
       "            max_depth=None, max_features='auto', max_leaf_nodes=None,\n",
       "            min_impurity_split=1e-07, min_samples_leaf=1,\n",
       "            min_samples_split=2, min_weight_fraction_leaf=0.0,\n",
       "            n_estimators=40, n_jobs=1, oob_score=False, random_state=None,\n",
       "            verbose=0, warm_start=False)"
      ]
     },
     "execution_count": 17,
     "metadata": {},
     "output_type": "execute_result"
    }
   ],
   "source": [
    "rf = RandomForestClassifier(n_estimators=40)\n",
    "rf.fit(train, train_labels)"
   ]
  },
  {
   "cell_type": "code",
   "execution_count": 18,
   "metadata": {
    "collapsed": false,
    "deletable": true,
    "editable": true
   },
   "outputs": [
    {
     "name": "stdout",
     "output_type": "stream",
     "text": [
      "0.9371428571428572 8.742857142857144\n",
      "0.96 9.2\n"
     ]
    }
   ],
   "source": [
    "for i in range(len(predictions_valid)):\n",
    "    predictions_valid[i] = rf.predict(valid[i].reshape(1,-1))\n",
    "for i in range(len(predictions_test)):\n",
    "    predictions_test[i] = rf.predict(test[i].reshape(1,-1))\n",
    "##############################\n",
    "f_valid = len(predictions_valid[predictions_valid == valid_labels])/len(valid_labels)\n",
    "f_test = len(predictions_test[predictions_test == test_labels])/len(test_labels)\n",
    "#############################\n",
    "print(f_valid,(f_valid-0.5)*20)\n",
    "print(f_test,(f_test-0.5)*20)"
   ]
  },
  {
   "cell_type": "code",
   "execution_count": 24,
   "metadata": {
    "collapsed": false,
    "deletable": true,
    "editable": true
   },
   "outputs": [
    {
     "name": "stdout",
     "output_type": "stream",
     "text": [
      "0 0.023992629744\n",
      "3 0.0187190807214\n",
      "29 0.0172532696508\n",
      "2 0.015990848978\n",
      "7 0.015761502832\n",
      "1 0.015642092971\n",
      "157 0.0126670275215\n",
      "46 0.0119141724882\n",
      "10 0.0115935372195\n",
      "13 0.0102959784483\n",
      "16 0.0101957737115\n",
      "9 0.0100721736287\n",
      "40 0.00997694086052\n",
      "205 0.00987019752411\n",
      "27 0.0082727232143\n",
      "71 0.00819102534546\n",
      "11 0.00777624771149\n",
      "33 0.00772422776766\n",
      "22 0.00730973046156\n",
      "105 0.00687612068482\n",
      "562 0.00663067702427\n",
      "305 0.00647010435575\n",
      "15 0.00644244419209\n",
      "138 0.00610639273562\n",
      "14 0.00595548676337\n",
      "38 0.00583729450245\n",
      "135 0.00583506623019\n",
      "42 0.00579730278486\n",
      "325 0.0055801186549\n",
      "24 0.00543400513713\n",
      "65 0.00519375655452\n",
      "180 0.00517104155178\n",
      "12 0.00500184400732\n",
      "97 0.00481126779331\n",
      "322 0.00472761887803\n",
      "78 0.00468875702166\n",
      "724 0.00464957548623\n",
      "148 0.00442122968618\n",
      "567 0.00421010729988\n",
      "1402 0.00418216639536\n",
      "52 0.00378007141554\n",
      "69 0.00368705438068\n",
      "55 0.00366699208572\n",
      "66 0.00351443320356\n",
      "177 0.00345586782016\n",
      "75 0.00344073320647\n",
      "86 0.00324647856207\n",
      "79 0.00320549663814\n",
      "226 0.00316980166653\n",
      "150 0.00311247319414\n"
     ]
    }
   ],
   "source": [
    "ii = np.argsort(rf.feature_importances_)[::-1][:50]\n",
    "for name,value in zip( ii,rf.feature_importances_[ii]):\n",
    "    if (value >= 0.00):\n",
    "        print(name, value)"
   ]
  },
  {
   "cell_type": "code",
   "execution_count": 19,
   "metadata": {
    "collapsed": false,
    "deletable": true,
    "editable": true
   },
   "outputs": [
    {
     "data": {
      "text/plain": [
       "4000"
      ]
     },
     "execution_count": 19,
     "metadata": {},
     "output_type": "execute_result"
    }
   ],
   "source": [
    "len(rf.feature_importances_[rf.feature_importances_>= 0])"
   ]
  },
  {
   "cell_type": "code",
   "execution_count": null,
   "metadata": {
    "collapsed": true,
    "deletable": true,
    "editable": true
   },
   "outputs": [],
   "source": []
  }
 ],
 "metadata": {
  "kernelspec": {
   "display_name": "Python 3",
   "language": "python",
   "name": "python3"
  },
  "language_info": {
   "codemirror_mode": {
    "name": "ipython",
    "version": 3
   },
   "file_extension": ".py",
   "mimetype": "text/x-python",
   "name": "python",
   "nbconvert_exporter": "python",
   "pygments_lexer": "ipython3",
   "version": "3.5.2"
  }
 },
 "nbformat": 4,
 "nbformat_minor": 2
}
